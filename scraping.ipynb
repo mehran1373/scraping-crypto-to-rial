{
  "cells": [
    {
      "cell_type": "markdown",
      "metadata": {
        "id": "view-in-github",
        "colab_type": "text"
      },
      "source": [
        "<a href=\"https://colab.research.google.com/github/mehran1373/scraping-crypto-to-rial/blob/main/scraping.ipynb\" target=\"_parent\"><img src=\"https://colab.research.google.com/assets/colab-badge.svg\" alt=\"Open In Colab\"/></a>"
      ]
    },
    {
      "cell_type": "code",
      "source": [
        "import pandas as pd\n",
        "import datetime\n",
        "import time\n",
        "import requests\n",
        "from bs4 import BeautifulSoup"
      ],
      "metadata": {
        "id": "G5RBxz6pJdjF"
      },
      "execution_count": 1,
      "outputs": []
    },
    {
      "cell_type": "code",
      "source": [
        "while True:\n",
        " url='https://arzdigital.com/'\n",
        " response=requests.get(url)\n",
        " soup=BeautifulSoup(response.text,'html.parser')\n",
        " body=soup.find('div',class_='arz-home-coins__list arz-owl-carousel')\n",
        " coins=body.find_all('div',class_='arz-home-coin__container')\n",
        " name=[]\n",
        " prices=[]\n",
        " toman=[]\n",
        " date=[]\n",
        " timee=[]\n",
        " for coin in coins:\n",
        "     names=coin.find('span',class_='arz-home-coin__name').text\n",
        "     name.append(names)\n",
        "     price=coin.find('div',class_='arz-home-coin__price-usd arz-text-overflow-content arz-text-overflow-toright').span.text\n",
        "     prices.append(price)\n",
        "     tom=coin.find('div',class_='arz-home-coin__price-toman arz-text-overflow-content').span.text\n",
        "     toman.append(tom)\n",
        "     times=datetime.datetime.now().strftime('%H:%M')\n",
        "     timee.append(times)\n",
        "     dates=datetime.datetime.now().strftime(\"%Y-%m-%d\")\n",
        "     date.append(dates)\n",
        " data=pd.DataFrame({'name':name,'price':prices,'toman':toman,'date':date,'time':timee})\n",
        " print(data,2*'\\n')\n",
        " time.sleep(60)"
      ],
      "metadata": {
        "id": "YPpEQZDTLUc6"
      },
      "execution_count": null,
      "outputs": []
    }
  ],
  "metadata": {
    "colab": {
      "collapsed_sections": [],
      "name": "Welcome To Colaboratory",
      "toc_visible": true,
      "provenance": [],
      "include_colab_link": true
    },
    "kernelspec": {
      "display_name": "Python 3",
      "name": "python3"
    }
  },
  "nbformat": 4,
  "nbformat_minor": 0
}