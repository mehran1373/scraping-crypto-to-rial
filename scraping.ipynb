{
  "cells": [
    {
      "cell_type": "markdown",
      "metadata": {
        "id": "view-in-github",
        "colab_type": "text"
      },
      "source": [
        "<a href=\"https://colab.research.google.com/github/mehran1373/scraping-crypto-to-rial/blob/main/scraping.ipynb\" target=\"_parent\"><img src=\"https://colab.research.google.com/assets/colab-badge.svg\" alt=\"Open In Colab\"/></a>"
      ]
    },
    {
      "cell_type": "code",
      "source": [
        "import pandas as pd\n",
        "import datetime\n",
        "import time\n",
        "import requests\n",
        "from bs4 import BeautifulSoup"
      ],
      "metadata": {
        "id": "G5RBxz6pJdjF"
      },
      "execution_count": 1,
      "outputs": []
    },
    {
      "cell_type": "code",
      "source": [
        "while True:\n",
        " url='https://arzdigital.com/'\n",
        " response=requests.get(url)\n",
        " soup=BeautifulSoup(response.text,'html.parser')\n",
        " body=soup.find('div',class_='arz-home-coins__list arz-owl-carousel')\n",
        " coins=body.find_all('div',class_='arz-home-coin__container')\n",
        " name=[]\n",
        " prices=[]\n",
        " toman=[]\n",
        " date=[]\n",
        " timee=[]\n",
        " for coin in coins:\n",
        "     names=coin.find('span',class_='arz-home-coin__name').text\n",
        "     name.append(names)\n",
        "     price=coin.find('div',class_='arz-home-coin__price-usd arz-text-overflow-content arz-text-overflow-toright').span.text\n",
        "     prices.append(price)\n",
        "     tom=coin.find('div',class_='arz-home-coin__price-toman arz-text-overflow-content').span.text\n",
        "     toman.append(tom)\n",
        "     times=datetime.datetime.now().strftime('%H:%M')\n",
        "     timee.append(times)\n",
        "     dates=datetime.datetime.now().strftime(\"%Y-%m-%d\")\n",
        "     date.append(dates)\n",
        " data=pd.DataFrame({'name':name,'price':prices,'toman':toman,'date':date,'time':timee})\n",
        " print(data,2*'\\n')\n",
        " time.sleep(60)"
      ],
      "metadata": {
        "colab": {
          "base_uri": "https://localhost:8080/",
          "height": 991
        },
        "id": "YPpEQZDTLUc6",
        "outputId": "4839a1a6-5f50-4038-ecb5-b5f14c105b56"
      },
      "execution_count": 6,
      "outputs": [
        {
          "output_type": "stream",
          "name": "stdout",
          "text": [
            "          name      price        toman        date   time\n",
            "0      Bitcoin    $16,967  ۶۱۵,۹۹۵,۲۰۴  2022-11-14  13:42\n",
            "1     Ethereum  $1,274.29   ۴۶,۲۶۳,۱۲۳  2022-11-14  13:42\n",
            "2       Tether  $0.998990       ۳۶,۲۶۸  2022-11-14  13:42\n",
            "3          BNB    $287.50   ۱۰,۴۳۷,۷۰۹  2022-11-14  13:42\n",
            "4     USD Coin      $1.00       ۳۶,۳۲۳  2022-11-14  13:42\n",
            "5  Binance USD      $1.00       ۳۶,۳۴۵  2022-11-14  13:42\n",
            "6          XRP  $0.356312       ۱۲,۹۳۵  2022-11-14  13:42\n",
            "7     Dogecoin  $0.089255        ۳,۲۴۰  2022-11-14  13:42 \n",
            "\n",
            "\n",
            "          name      price        toman        date   time\n",
            "0      Bitcoin    $16,967  ۶۱۵,۹۹۵,۲۰۴  2022-11-14  13:43\n",
            "1     Ethereum  $1,274.29   ۴۶,۲۶۳,۱۲۳  2022-11-14  13:43\n",
            "2       Tether  $0.998990       ۳۶,۲۶۸  2022-11-14  13:43\n",
            "3          BNB    $287.50   ۱۰,۴۳۷,۷۰۹  2022-11-14  13:43\n",
            "4     USD Coin      $1.00       ۳۶,۳۲۳  2022-11-14  13:43\n",
            "5  Binance USD      $1.00       ۳۶,۳۴۵  2022-11-14  13:43\n",
            "6          XRP  $0.356312       ۱۲,۹۳۵  2022-11-14  13:43\n",
            "7     Dogecoin  $0.089255        ۳,۲۴۰  2022-11-14  13:43 \n",
            "\n",
            "\n",
            "          name      price        toman        date   time\n",
            "0      Bitcoin    $16,967  ۶۱۵,۹۹۵,۲۰۴  2022-11-14  13:44\n",
            "1     Ethereum  $1,274.29   ۴۶,۲۶۳,۱۲۳  2022-11-14  13:44\n",
            "2       Tether  $0.998990       ۳۶,۲۶۸  2022-11-14  13:44\n",
            "3          BNB    $287.50   ۱۰,۴۳۷,۷۰۹  2022-11-14  13:44\n",
            "4     USD Coin      $1.00       ۳۶,۳۲۳  2022-11-14  13:44\n",
            "5  Binance USD      $1.00       ۳۶,۳۴۵  2022-11-14  13:44\n",
            "6          XRP  $0.356312       ۱۲,۹۳۵  2022-11-14  13:44\n",
            "7     Dogecoin  $0.089255        ۳,۲۴۰  2022-11-14  13:44 \n",
            "\n",
            "\n",
            "          name      price        toman        date   time\n",
            "0      Bitcoin    $16,967  ۶۱۵,۹۹۵,۲۰۴  2022-11-14  13:45\n",
            "1     Ethereum  $1,274.29   ۴۶,۲۶۳,۱۲۳  2022-11-14  13:45\n",
            "2       Tether  $0.998990       ۳۶,۲۶۸  2022-11-14  13:45\n",
            "3          BNB    $287.50   ۱۰,۴۳۷,۷۰۹  2022-11-14  13:45\n",
            "4     USD Coin      $1.00       ۳۶,۳۲۳  2022-11-14  13:45\n",
            "5  Binance USD      $1.00       ۳۶,۳۴۵  2022-11-14  13:45\n",
            "6          XRP  $0.356312       ۱۲,۹۳۵  2022-11-14  13:45\n",
            "7     Dogecoin  $0.089255        ۳,۲۴۰  2022-11-14  13:45 \n",
            "\n",
            "\n"
          ]
        },
        {
          "output_type": "error",
          "ename": "KeyboardInterrupt",
          "evalue": "ignored",
          "traceback": [
            "\u001b[0;31m---------------------------------------------------------------------------\u001b[0m",
            "\u001b[0;31mKeyboardInterrupt\u001b[0m                         Traceback (most recent call last)",
            "\u001b[0;32m<ipython-input-6-9ac00f20804e>\u001b[0m in \u001b[0;36m<module>\u001b[0;34m\u001b[0m\n\u001b[1;32m     23\u001b[0m  \u001b[0mdata\u001b[0m\u001b[0;34m=\u001b[0m\u001b[0mpd\u001b[0m\u001b[0;34m.\u001b[0m\u001b[0mDataFrame\u001b[0m\u001b[0;34m(\u001b[0m\u001b[0;34m{\u001b[0m\u001b[0;34m'name'\u001b[0m\u001b[0;34m:\u001b[0m\u001b[0mname\u001b[0m\u001b[0;34m,\u001b[0m\u001b[0;34m'price'\u001b[0m\u001b[0;34m:\u001b[0m\u001b[0mprices\u001b[0m\u001b[0;34m,\u001b[0m\u001b[0;34m'toman'\u001b[0m\u001b[0;34m:\u001b[0m\u001b[0mtoman\u001b[0m\u001b[0;34m,\u001b[0m\u001b[0;34m'date'\u001b[0m\u001b[0;34m:\u001b[0m\u001b[0mdate\u001b[0m\u001b[0;34m,\u001b[0m\u001b[0;34m'time'\u001b[0m\u001b[0;34m:\u001b[0m\u001b[0mtimee\u001b[0m\u001b[0;34m}\u001b[0m\u001b[0;34m)\u001b[0m\u001b[0;34m\u001b[0m\u001b[0;34m\u001b[0m\u001b[0m\n\u001b[1;32m     24\u001b[0m  \u001b[0mprint\u001b[0m\u001b[0;34m(\u001b[0m\u001b[0mdata\u001b[0m\u001b[0;34m,\u001b[0m\u001b[0;36m2\u001b[0m\u001b[0;34m*\u001b[0m\u001b[0;34m'\\n'\u001b[0m\u001b[0;34m)\u001b[0m\u001b[0;34m\u001b[0m\u001b[0;34m\u001b[0m\u001b[0m\n\u001b[0;32m---> 25\u001b[0;31m  \u001b[0mtime\u001b[0m\u001b[0;34m.\u001b[0m\u001b[0msleep\u001b[0m\u001b[0;34m(\u001b[0m\u001b[0;36m60\u001b[0m\u001b[0;34m)\u001b[0m\u001b[0;34m\u001b[0m\u001b[0;34m\u001b[0m\u001b[0m\n\u001b[0m",
            "\u001b[0;31mKeyboardInterrupt\u001b[0m: "
          ]
        }
      ]
    }
  ],
  "metadata": {
    "colab": {
      "collapsed_sections": [],
      "name": "Welcome To Colaboratory",
      "toc_visible": true,
      "provenance": [],
      "include_colab_link": true
    },
    "kernelspec": {
      "display_name": "Python 3",
      "name": "python3"
    }
  },
  "nbformat": 4,
  "nbformat_minor": 0
}